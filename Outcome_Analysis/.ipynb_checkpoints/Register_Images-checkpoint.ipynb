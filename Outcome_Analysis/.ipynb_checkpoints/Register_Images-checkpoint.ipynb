{
 "cells": [
  {
   "cell_type": "code",
   "execution_count": 2,
   "metadata": {
    "pycharm": {
     "is_executing": true
    }
   },
   "outputs": [],
   "source": [
    "import os\n",
    "import pandas as pd\n",
    "from Dicom_RT_and_Images_to_Mask.src.DicomRTTool import DicomReaderWriter, pydicom\n",
    "import SimpleITK as sitk\n",
    "import numpy as np"
   ]
  },
  {
   "cell_type": "code",
   "execution_count": 7,
   "metadata": {},
   "outputs": [],
   "source": [
    "%matplotlib inline\n",
    "import matplotlib.pyplot as plt\n",
    "\n",
    "from ipywidgets import interact, fixed\n",
    "from IPython.display import clear_output\n",
    "\n",
    "# Callback invoked by the interact IPython method for scrolling through the image stacks of\n",
    "# the two images (moving and fixed).\n",
    "def display_images(fixed_image_z, moving_image_z, fixed_npa, moving_npa):\n",
    "    # Create a figure with two subplots and the specified size.\n",
    "    plt.subplots(1,2,figsize=(10,8))\n",
    "    \n",
    "    # Draw the fixed image in the first subplot.\n",
    "    plt.subplot(1,2,1)\n",
    "    plt.imshow(fixed_npa[fixed_image_z,:,:],cmap=plt.cm.Greys_r);\n",
    "    plt.title('fixed image')\n",
    "    plt.axis('off')\n",
    "    \n",
    "    # Draw the moving image in the second subplot.\n",
    "    plt.subplot(1,2,2)\n",
    "    plt.imshow(moving_npa[moving_image_z,:,:],cmap=plt.cm.Greys_r);\n",
    "    plt.title('moving image')\n",
    "    plt.axis('off')\n",
    "    \n",
    "    plt.show()\n",
    "\n",
    "# Callback invoked by the IPython interact method for scrolling and modifying the alpha blending\n",
    "# of an image stack of two images that occupy the same physical space. \n",
    "def display_images_with_alpha(image_z, alpha, fixed, moving):\n",
    "    img = (1.0 - alpha)*fixed[:,:,image_z] + alpha*moving[:,:,image_z] \n",
    "    plt.imshow(sitk.GetArrayViewFromImage(img),cmap=plt.cm.Greys_r);\n",
    "    plt.axis('off')\n",
    "    plt.show()\n",
    "    \n",
    "# Callback invoked when the StartEvent happens, sets up our new data.\n",
    "def start_plot():\n",
    "    global metric_values, multires_iterations\n",
    "    \n",
    "    metric_values = []\n",
    "    multires_iterations = []\n",
    "\n",
    "# Callback invoked when the EndEvent happens, do cleanup of data and figure.\n",
    "def end_plot():\n",
    "    global metric_values, multires_iterations\n",
    "    \n",
    "    del metric_values\n",
    "    del multires_iterations\n",
    "    # Close figure, we don't want to get a duplicate of the plot latter on.\n",
    "    plt.close()\n",
    "\n",
    "# Callback invoked when the IterationEvent happens, update our data and display new figure.\n",
    "def plot_values(registration_method):\n",
    "    global metric_values, multires_iterations\n",
    "    \n",
    "    metric_values.append(registration_method.GetMetricValue())                                       \n",
    "    # Clear the output area (wait=True, to reduce flickering), and plot current data\n",
    "    clear_output(wait=True)\n",
    "    # Plot the similarity metric values\n",
    "    plt.plot(metric_values, 'r')\n",
    "    plt.plot(multires_iterations, [metric_values[index] for index in multires_iterations], 'b*')\n",
    "    plt.xlabel('Iteration Number',fontsize=12)\n",
    "    plt.ylabel('Metric Value',fontsize=12)\n",
    "    plt.show()\n",
    "    \n",
    "# Callback invoked when the sitkMultiResolutionIterationEvent happens, update the index into the \n",
    "# metric_values list. \n",
    "def update_multires_iterations():\n",
    "    global metric_values, multires_iterations\n",
    "    multires_iterations.append(len(metric_values))"
   ]
  },
  {
   "cell_type": "code",
   "execution_count": 3,
   "metadata": {
    "pycharm": {
     "name": "#%%\n"
    }
   },
   "outputs": [],
   "source": [
    "def return_MRN_dictionary(excel_path):\n",
    "    df = pd.read_excel(excel_path, sheet_name='Refined')\n",
    "    MRN_list, GTV_List, Ablation_list, Registered_list = df['MRN'].values, df['PreExam'].values,\\\n",
    "                                                         df['Ablation_Exam'].values, df['Registered'].values\n",
    "    MRN_dictionary = {}\n",
    "    for MRN, GTV, Ablation, Registered in zip(MRN_list, GTV_List, Ablation_list, Registered_list):\n",
    "        Registered = str(Registered)\n",
    "        if Registered != '1.0':\n",
    "            continue\n",
    "        add = True\n",
    "        if type(GTV) is float or type(Ablation) is float:\n",
    "            add = False\n",
    "        if add:\n",
    "            GTV = str(GTV)\n",
    "            if GTV.startswith('CT'):\n",
    "                if GTV.find(' ') == -1:\n",
    "                    GTV = 'CT {}'.format(GTV.split('CT')[-1])\n",
    "            Ablation = str(Ablation)\n",
    "            if Ablation.startswith('CT'):\n",
    "                if Ablation.find(' ') == -1:\n",
    "                    Ablation = 'CT {}'.format(Ablation.split('CT')[-1])\n",
    "            MRN_dictionary[MRN] = {'Primary': GTV, 'Secondary': Ablation}\n",
    "    return MRN_dictionary"
   ]
  },
  {
   "cell_type": "code",
   "execution_count": 4,
   "metadata": {},
   "outputs": [],
   "source": [
    "base_export_path = r'H:\\Deeplearning_Recurrence_Work\\Dicom_Exports'\n",
    "excel_path = r'\\\\mymdafiles\\di_data1\\Morfeus\\BMAnderson\\Modular_Projects\\Liver_Local_Recurrence_Work' \\\n",
    "             r'\\Predicting_Recurrence\\RetroAblation.xlsx'\n",
    "MRN_dictionary = return_MRN_dictionary(excel_path)"
   ]
  },
  {
   "cell_type": "code",
   "execution_count": 5,
   "metadata": {},
   "outputs": [],
   "source": [
    "for MRN in MRN_dictionary.keys():\n",
    "    if MRN not in os.listdir(base_export_path):\n",
    "        continue\n",
    "    patient_dictionary = MRN_dictionary[MRN]\n",
    "    primary = patient_dictionary['Primary']\n",
    "    secondary = patient_dictionary['Secondary']\n",
    "    primary_reader = DicomReaderWriter()\n",
    "    secondary_reader = DicomReaderWriter()\n",
    "    for root, directories, files in os.walk(os.path.join(base_export_path, MRN)):\n",
    "        if 'Registration' in directories and primary in directories and secondary in directories:\n",
    "            '''\n",
    "            First, load in our registration\n",
    "            '''\n",
    "            registration_path = os.path.join(root, 'Registration')\n",
    "            registration_file = [os.path.join(registration_path, i) for i in os.listdir(registration_path)][0]\n",
    "            ds = pydicom.read_file(registration_file)\n",
    "            registration_matrix = np.asarray(ds.RegistrationSequence[-1].MatrixRegistrationSequence[-1].\n",
    "                                             MatrixSequence[-1].FrameOfReferenceTransformationMatrix)\n",
    "            '''\n",
    "            Next, our primary and secondary images, as sitkFloat32'''\n",
    "            primary_path = os.path.join(root, primary)\n",
    "            secondary_path = os.path.join(root, secondary)\n",
    "            primary_reader.down_folder(primary_path)\n",
    "            secondary_reader.down_folder(secondary_path)\n",
    "            fixed_image = sitk.Cast(primary_reader.dicom_handle, sitk.sitkFloat32)\n",
    "            moving_image = sitk.Cast(secondary_reader.dicom_handle, sitk.sitkFloat32)"
   ]
  },
  {
   "cell_type": "code",
   "execution_count": 6,
   "metadata": {},
   "outputs": [
    {
     "data": {
      "text/plain": [
       "<SimpleITK.SimpleITK.Image; proxy of <Swig Object of type 'std::vector< itk::simple::Image >::value_type *' at 0x00000233BF00A120> >"
      ]
     },
     "execution_count": 6,
     "metadata": {},
     "output_type": "execute_result"
    }
   ],
   "source": [
    "fixed_image"
   ]
  },
  {
   "cell_type": "code",
   "execution_count": null,
   "metadata": {},
   "outputs": [],
   "source": []
  }
 ],
 "metadata": {
  "kernelspec": {
   "display_name": "Python 3",
   "language": "python",
   "name": "python3"
  },
  "language_info": {
   "codemirror_mode": {
    "name": "ipython",
    "version": 3
   },
   "file_extension": ".py",
   "mimetype": "text/x-python",
   "name": "python",
   "nbconvert_exporter": "python",
   "pygments_lexer": "ipython3",
   "version": "3.6.5"
  }
 },
 "nbformat": 4,
 "nbformat_minor": 1
}
